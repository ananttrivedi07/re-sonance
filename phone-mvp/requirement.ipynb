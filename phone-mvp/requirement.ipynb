{
 "cells": [
  {
   "cell_type": "code",
   "execution_count": 5,
   "id": "9402222a",
   "metadata": {},
   "outputs": [],
   "source": [
    "import torch\n",
    "import ollama\n",
    "from transformers import AutoModelForSpeechSeq2Seq, AutoProcessor, pipeline\n",
    "\n",
    "# print(\"Number of GPU: \", torch.cuda.device_count())\n",
    "# print(\"GPU Name: \", torch.cuda.get_device_name())\n",
    "\n",
    "\n",
    "# device = torch.device('cuda' if torch.cuda.is_available() else 'cpu')\n",
    "# print('Using device:', device)"
   ]
  },
  {
   "cell_type": "code",
   "execution_count": null,
   "id": "607d1d2d",
   "metadata": {},
   "outputs": [
    {
     "name": "stderr",
     "output_type": "stream",
     "text": [
      "Device set to use cuda\n"
     ]
    },
    {
     "name": "stdout",
     "output_type": "stream",
     "text": [
      " முரியாயில் ஜாவியாயில் अलड़की ब्यूटी फुल्ल कर गई चुल गई चुल अलड़की ब्यूटी फुल्ल कर गई चुल देख तेरा रंग सावला हुआ बावला लड़की नहीं है तुए गरम मामला बोलती गंद मिली कहूं क्या बला कुछ भी कहा नहीं जा पादिशाह की मततने मारी, ठड़के तरपे करू गूड सवारी, चांस चोलक मिल जाए मेरे चन्नाच तुगली हिले है लंडन, मटक मटक जजर रवीन धन्न, आग लगाने आई है वंधन, गोडी चलगी धाए तरिया तरी जवानी करती है मनमानी, तेरे तुमें उंगली मेरे मुँ में हापानी, मेरे समझे इशारित लगती सियानी विवी अरद राएं, बाएं, कैसे कमर तुझ जुलाएं, तुसिक समझ नहीं आएं अरण लड़की लुटी भुल दरगे रजाएं, जाएं, देख रहां नहीं जाएं, साप सचे से डस जाएं अरण लड़की लुटी भुल दरगे कोई बचालो, मुझे सवालो, अरे शे बठालो अनलणकी प्यूटी पुल कर गयी चकल लाएगी देरी पेज दरी पेज दरी जात गे जाले मेरो फोटो शोटो करंग वश्ती थोडी थोडी साथ लियत तिन फ्रेंड भी होतो तेकोरवायो थारी बाबी निकर वाली करगी करबी ससुरी दीगी करगी करगी करगी अलड़ की ब्यूटी फुल कर गे जूट अलड़ की ब्यूटी फुल कर गे जूट अलड़ की ब्यूटी फुल कर गे जूट अलड़ की ब्यूटी फुल कर गे जूट कैसे कमर तु जुलाए फिसिक समझ नहीं आए अलड़ की ब्यूटी फुल कर गे जूट जाए जाए देख रहा नहीं जाए सुप से जिसे जाए अलड़ की ब्यूटी फुल कर गे जूट चालो, मुझे समालो, अरे इसे उठालो अरा नणकी ब्यूटी फुल कर गई चुल चुरी लोको, छोरी निटोको, निगों वलोको अरा नणकी ब्यूटी फुल कर गई चुल\n"
     ]
    }
   ],
   "source": [
    "device = \"cuda\" if torch.cuda.is_available() else \"cpu\"\n",
    "torch_dtype = torch.float16 if torch.cuda.is_available() else torch.float32\n",
    "\n",
    "model_id = \"openai/whisper-large-v3-turbo\"\n",
    "\n",
    "model = AutoModelForSpeechSeq2Seq.from_pretrained(\n",
    "    model_id, torch_dtype=torch_dtype, low_cpu_mem_usage=True, use_safetensors=True\n",
    ")\n",
    "model.to(device)\n",
    "\n",
    "processor = AutoProcessor.from_pretrained(model_id)\n",
    "\n",
    "pipe = pipeline(\n",
    "    \"automatic-speech-recognition\",\n",
    "    model=model,\n",
    "    tokenizer=processor.tokenizer,\n",
    "    feature_extractor=processor.feature_extractor,\n",
    "    torch_dtype=torch_dtype,\n",
    "    device=device,\n",
    ")\n",
    "\n",
    "\n",
    "result = pipe(\"./test_audio.mp3\", return_timestamps=True)\n",
    "print(result[\"text\"])\n"
   ]
  },
  {
   "cell_type": "code",
   "execution_count": 9,
   "id": "0ead490d",
   "metadata": {},
   "outputs": [],
   "source": [
    "def get_response(prompt):\n",
    "    response = ollama.chat( model=\"llama3.2\", \n",
    "                            messages=[{\"role\": \"user\", \"content\": prompt}])\n",
    "    return response[\"message\"][\"content\"]"
   ]
  },
  {
   "cell_type": "code",
   "execution_count": 11,
   "id": "d90d71da",
   "metadata": {},
   "outputs": [
    {
     "data": {
      "text/plain": [
       "'The capital of Australia is Canberra.'"
      ]
     },
     "execution_count": 11,
     "metadata": {},
     "output_type": "execute_result"
    }
   ],
   "source": [
    "get_response(\"What is the capital of Austraila?\")"
   ]
  },
  {
   "cell_type": "code",
   "execution_count": 12,
   "id": "362c090a",
   "metadata": {},
   "outputs": [
    {
     "name": "stdout",
     "output_type": "stream",
     "text": [
      "Recording for 5 seconds...\n",
      "Audio saved to test_recording.mp3\n"
     ]
    }
   ],
   "source": [
    "import sounddevice as sd\n",
    "import numpy as np\n",
    "import scipy.io.wavfile as wav\n",
    "from pydub import AudioSegment\n",
    "import os\n",
    "\n",
    "def record_audio(filename, duration=5, samplerate=16000):\n",
    "    print(f\"Recording for {duration} seconds...\")\n",
    "    \n",
    "    # Create a temporary WAV file\n",
    "    temp_wav = \"temp_recording.wav\"\n",
    "    \n",
    "    # Record audio\n",
    "    audio = sd.rec(int(duration * samplerate), samplerate=samplerate, channels=1, dtype='int16')\n",
    "    sd.wait()\n",
    "    \n",
    "    # Save temporary WAV file\n",
    "    wav.write(temp_wav, samplerate, audio)\n",
    "    \n",
    "    # Convert to MP3\n",
    "    audio_segment = AudioSegment.from_wav(temp_wav)\n",
    "    audio_segment.export(filename, format=\"mp3\")\n",
    "    \n",
    "    # Clean up temporary WAV file\n",
    "    os.remove(temp_wav)\n",
    "    \n",
    "    print(f\"Audio saved to {filename}\")\n",
    "\n",
    "# Example usage:\n",
    "record_audio(\"test_recording.mp3\", duration=5)"
   ]
  },
  {
   "cell_type": "code",
   "execution_count": 13,
   "id": "114cf8a8",
   "metadata": {},
   "outputs": [
    {
     "name": "stderr",
     "output_type": "stream",
     "text": [
      "c:\\Users\\anant\\anaconda3\\envs\\resonance_env\\lib\\site-packages\\transformers\\models\\whisper\\generation_whisper.py:604: FutureWarning: The input name `inputs` is deprecated. Please make sure to use `input_features` instead.\n",
      "  warnings.warn(\n"
     ]
    },
    {
     "data": {
      "text/plain": [
       "' முரியாயில் ஜாவியாயில் अलड़की ब्यूटी फुल्ल कर गई चुल गई चुल अलड़की ब्यूटी फुल्ल कर गई चुल देख तेरा रंग सावला हुआ बावला लड़की नहीं है तुए गरम मामला बोलती गंद मिली कहूं क्या बला कुछ भी कहा नहीं जा पादिशाह की मततने मारी, ठड़के तरपे करू गूड सवारी, चांस चोलक मिल जाए मेरे चन्नाच तुगली हिले है लंडन, मटक मटक जजर रवीन धन्न, आग लगाने आई है वंधन, गोडी चलगी धाए तरिया तरी जवानी करती है मनमानी, तेरे तुमें उंगली मेरे मुँ में हापानी, मेरे समझे इशारित लगती सियानी विवी अरद राएं, बाएं, कैसे कमर तुझ जुलाएं, तुसिक समझ नहीं आएं अरण लड़की लुटी भुल दरगे रजाएं, जाएं, देख रहां नहीं जाएं, साप सचे से डस जाएं अरण लड़की लुटी भुल दरगे कोई बचालो, मुझे सवालो, अरे शे बठालो अनलणकी प्यूटी पुल कर गयी चकल लाएगी देरी पेज दरी पेज दरी जात गे जाले मेरो फोटो शोटो करंग वश्ती थोडी थोडी साथ लियत तिन फ्रेंड भी होतो तेकोरवायो थारी बाबी निकर वाली करगी करबी ससुरी दीगी करगी करगी करगी अलड़ की ब्यूटी फुल कर गे जूट अलड़ की ब्यूटी फुल कर गे जूट अलड़ की ब्यूटी फुल कर गे जूट अलड़ की ब्यूटी फुल कर गे जूट कैसे कमर तु जुलाए फिसिक समझ नहीं आए अलड़ की ब्यूटी फुल कर गे जूट जाए जाए देख रहा नहीं जाए सुप से जिसे जाए अलड़ की ब्यूटी फुल कर गे जूट चालो, मुझे समालो, अरे इसे उठालो अरा नणकी ब्यूटी फुल कर गई चुल चुरी लोको, छोरी निटोको, निगों वलोको अरा नणकी ब्यूटी फुल कर गई चुल'"
      ]
     },
     "execution_count": 13,
     "metadata": {},
     "output_type": "execute_result"
    }
   ],
   "source": [
    "def transcribe_audio(file_path):\n",
    "    result = pipe(file_path, return_timestamps=True)\n",
    "    return result[\"text\"]\n",
    "\n",
    "transcribe_audio(\"test_audio.mp3\")"
   ]
  },
  {
   "cell_type": "code",
   "execution_count": null,
   "id": "33a0e7d3",
   "metadata": {},
   "outputs": [],
   "source": [
    "record_audio()\n",
    "prompt = transcribe_audio(\"test_recording.mp3\")\n",
    "get_response(prompt)"
   ]
  }
 ],
 "metadata": {
  "kernelspec": {
   "display_name": "resonance_env",
   "language": "python",
   "name": "python3"
  },
  "language_info": {
   "codemirror_mode": {
    "name": "ipython",
    "version": 3
   },
   "file_extension": ".py",
   "mimetype": "text/x-python",
   "name": "python",
   "nbconvert_exporter": "python",
   "pygments_lexer": "ipython3",
   "version": "3.10.18"
  }
 },
 "nbformat": 4,
 "nbformat_minor": 5
}
